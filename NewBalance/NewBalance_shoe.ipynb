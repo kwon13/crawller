{
 "cells": [
  {
   "cell_type": "code",
   "execution_count": null,
   "metadata": {},
   "outputs": [],
   "source": [
    "from selenium import webdriver \n",
    "from selenium.webdriver.chrome.options import Options\n",
    "from fake_useragent import UserAgent\n",
    "from selenium.webdriver import ActionChains \n",
    "from time import sleep\n",
    "import time\n",
    "\n",
    "import warnings\n",
    "warnings.filterwarnings('ignore')\n",
    "\n",
    "import pandas as pd\n",
    "import numpy as np"
   ]
  },
  {
   "cell_type": "code",
   "execution_count": null,
   "metadata": {},
   "outputs": [],
   "source": [
    "options = Options()\n",
    "ua = UserAgent()\n",
    "userAgent = ua.random\n",
    "options.add_argument('--start-fullscreen')  # 전체화면\n",
    "options.add_argument(f'user-agent={userAgent}') # useragent값\n",
    "options.add_argument('--disable-blink-features=AutomationControlled')   # 봇 피하기\n",
    "driver = webdriver.Chrome(chrome_options=options, executable_path=r'./chromedriver')    # 크롬주소\n",
    "sleep(3)"
   ]
  },
  {
   "cell_type": "code",
   "execution_count": null,
   "metadata": {},
   "outputs": [],
   "source": [
    "driver.get(\"https://www.nbkorea.com/product/productList.action?cateGrpCode=250110&cIdx=1280\")\n",
    "sleep(3)\n"
   ]
  },
  {
   "cell_type": "code",
   "execution_count": null,
   "metadata": {},
   "outputs": [],
   "source": [
    "# 신발 더보기 클릭\n",
    "more_btn=driver.find_element_by_class_name('btn_area')\n",
    "count=int(driver.find_element_by_id('moreList').get_attribute('existcnt'))\n",
    "for i in range(count//30+1):\n",
    "    more_btn.click()\n",
    "    sleep(1)"
   ]
  },
  {
   "cell_type": "code",
   "execution_count": null,
   "metadata": {},
   "outputs": [],
   "source": [
    "product=driver.find_element_by_id('prodList')\n",
    "items=product.find_elements_by_tag_name('li')\n",
    "\n",
    "# 상품의 data-style, data-cidx속성값을 저장\n",
    "style_list=[]\n",
    "for i in items:\n",
    "    a=i.find_element_by_class_name('pro_area').get_attribute('data-style')\n",
    "    b=i.find_element_by_class_name('pro_area').get_attribute('data-cidx')\n",
    "    style_list.append(a+b)\n",
    "\n",
    "# data-style값을 통해 신발 링크를 들어감."
   ]
  },
  {
   "cell_type": "code",
   "execution_count": null,
   "metadata": {},
   "outputs": [],
   "source": [
    "len(style_list)"
   ]
  },
  {
   "cell_type": "code",
   "execution_count": null,
   "metadata": {},
   "outputs": [],
   "source": [
    "# 신발 상품 stylecode로 중복제거\n",
    "style_dict={}\n",
    "\n",
    "for i in style_list:\n",
    "    style_code=i[:9]\n",
    "    color_code=i[9:]\n",
    "    style_dict[style_code]=color_code"
   ]
  },
  {
   "cell_type": "code",
   "execution_count": null,
   "metadata": {},
   "outputs": [],
   "source": [
    "# 중복 제거 후 신발 url 저장\n",
    "item_url=[]\n",
    "for k,v in style_dict.items():\n",
    "    styleCode=k+v[0]\n",
    "    cat_num=v[1:]\n",
    "    item_url.append(f'https://www.nbkorea.com/product/productDetail.action?styleCode={styleCode}&cIdx={cat_num}')\n",
    "\n",
    "len(item_url)"
   ]
  },
  {
   "cell_type": "code",
   "execution_count": null,
   "metadata": {},
   "outputs": [],
   "source": [
    "result_list=[]\n",
    "\n",
    "# 남성 신발 카테고리 번호\n",
    "cat_dict={1287:'라이프스타일',\n",
    "            1283:'MADE IN USA/UK',\n",
    "            1288:'러닝',\n",
    "            1377:'워킹',\n",
    "            1292:'샌들/슬라이드',\n",
    "            1377:'워킹',\n",
    "            1499:'농구',\n",
    "            1289:'축구',\n",
    "            1290:'야구/테니스',\n",
    "            1291:'스케이트보딩'}\n",
    "\n",
    "for url in item_url:\n",
    "    # 신발 카테고리\n",
    "    shoe_cat=cat_dict[int(url.split('cIdx=')[1])]\n",
    "\n",
    "    driver.get(url)\n",
    "    sleep(2)\n",
    "\n",
    "    # 신발 이름\n",
    "    shoe_name=driver.find_element_by_xpath('//*[@id=\"displayName\"]').text\n",
    "    # 신발 가격\n",
    "    shoe_price=driver.find_element_by_id('dispPrice').text\n",
    "    # 리뷰 수\n",
    "    review_cnt=driver.find_element_by_xpath('/html/body/div[1]/div[3]/div[1]/div[2]/div[1]/div[2]/div[1]/a').text\n",
    "    review_cnt=review_cnt.split('(')[1].split(')')[0]\n",
    "\n",
    "    if int(review_cnt)>0:\n",
    "        driver.find_element_by_css_selector('#pr_review').click()\n",
    "        # 리뷰 더보기 클릭\n",
    "        try:\n",
    "            review_more=driver.find_element_by_id(\"reviewMoreList\")\n",
    "            for i in range(int(review_more.get_attribute('data-exist-cnt'))):\n",
    "                review_more.click()\n",
    "                sleep(1)\n",
    "        except:\n",
    "            pass\n",
    "\n",
    "        review_list=driver.find_elements_by_class_name('review_detail')\n",
    "        \n",
    "        for review in review_list:\n",
    "            # 리뷰 제목\n",
    "            review_title=review.find_element_by_class_name('tit').text\n",
    "            # 리뷰 내용\n",
    "            review_contents=review.find_element_by_class_name('txt').text\n",
    "            \n",
    "            result_list.append({\n",
    "                '신발 이름':shoe_name,\n",
    "                '신발가격':shoe_price,\n",
    "                '신발 카테고리':shoe_cat,\n",
    "                '리뷰 제목':review_title,\n",
    "                '리뷰 내용':review_contents,\n",
    "                '신발 url':url\n",
    "            })\n",
    "\n",
    "    else:\n",
    "        result_list.append({\n",
    "                '신발 이름':shoe_name,\n",
    "                '신발가격':shoe_price,\n",
    "                '신발 카테고리':shoe_cat,\n",
    "                '리뷰 제목':'리뷰 없음',\n",
    "                '리뷰 내용':'리뷰 없음',\n",
    "                '신발 url':url\n",
    "            })\n",
    "\n",
    "\n"
   ]
  },
  {
   "cell_type": "code",
   "execution_count": null,
   "metadata": {},
   "outputs": [],
   "source": [
    "df=pd.DataFrame(result_list)\n",
    "df.to_csv('NewBalance.csv')"
   ]
  },
  {
   "cell_type": "code",
   "execution_count": null,
   "metadata": {},
   "outputs": [],
   "source": [
    "df.shape"
   ]
  },
  {
   "cell_type": "code",
   "execution_count": null,
   "metadata": {},
   "outputs": [],
   "source": []
  }
 ],
 "metadata": {
  "interpreter": {
   "hash": "aee8b7b246df8f9039afb4144a1f6fd8d2ca17a180786b69acc140d282b71a49"
  },
  "kernelspec": {
   "display_name": "Python 3.8.6 64-bit",
   "name": "python3"
  },
  "language_info": {
   "name": "python",
   "version": ""
  },
  "orig_nbformat": 4
 },
 "nbformat": 4,
 "nbformat_minor": 2
}