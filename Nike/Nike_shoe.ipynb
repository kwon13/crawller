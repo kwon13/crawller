{
 "cells": [
  {
   "cell_type": "code",
   "execution_count": 103,
   "metadata": {},
   "outputs": [],
   "source": [
    "from selenium import webdriver \n",
    "from selenium.webdriver.chrome.options import Options\n",
    "from fake_useragent import UserAgent\n",
    "from selenium.webdriver import ActionChains \n",
    "from time import sleep\n",
    "import time\n",
    "\n",
    "import warnings\n",
    "warnings.filterwarnings('ignore')\n",
    "\n",
    "import pandas as pd\n",
    "import numpy as np"
   ]
  },
  {
   "cell_type": "code",
   "execution_count": 114,
   "metadata": {},
   "outputs": [],
   "source": [
    "options = Options()\n",
    "ua = UserAgent()\n",
    "userAgent = ua.random\n",
    "options.add_argument('--start-fullscreen')  # 전체화면\n",
    "options.add_argument(f'user-agent={userAgent}') # useragent값\n",
    "options.add_argument('--disable-blink-features=AutomationControlled')   # 봇 피하기\n",
    "driver = webdriver.Chrome(chrome_options=options, executable_path=r'./chromedriver')    # 크롬주소\n",
    "sleep(3)"
   ]
  },
  {
   "cell_type": "code",
   "execution_count": 115,
   "metadata": {},
   "outputs": [],
   "source": [
    "driver.get(\"https://www.nike.com/kr/ko_kr/w/new/fw/xc/new-mens-shoes\")\n",
    "sleep(3)\n"
   ]
  },
  {
   "cell_type": "code",
   "execution_count": 116,
   "metadata": {},
   "outputs": [],
   "source": [
    "# 스크롤 할 페이지 횟수\n",
    "n=int(input())"
   ]
  },
  {
   "cell_type": "code",
   "execution_count": 117,
   "metadata": {},
   "outputs": [],
   "source": [
    "# 나이키 페이지 스크롤 다운\n",
    "for i in range(n):\n",
    "   \n",
    "    end_tag=driver.find_element_by_xpath('/html/body/section/section/section/article/div/div[2]/div')\n",
    "    \n",
    "    ActionChains(driver).move_to_element(end_tag).perform()\n",
    "    driver.execute_script(\"window.scrollTo(0, window.scrollY + 500);\")\n",
    "    time.sleep(2)\n"
   ]
  },
  {
   "cell_type": "code",
   "execution_count": null,
   "metadata": {},
   "outputs": [],
   "source": [
    "# 상품의 링크를 모두 들고와 item_url에 저장\n",
    "items=driver.find_elements_by_css_selector(\".a-product-image-link\")\n",
    "item_url=[i.get_attribute('href') for i in items]"
   ]
  },
  {
   "cell_type": "code",
   "execution_count": null,
   "metadata": {},
   "outputs": [],
   "source": [
    "len(item_url)"
   ]
  },
  {
   "cell_type": "code",
   "execution_count": null,
   "metadata": {},
   "outputs": [],
   "source": [
    "result_list=[]\n",
    "\n",
    "for shoe_url in item_url:\n",
    "    \n",
    "    driver.get(shoe_url)\n",
    "    sleep(2)\n",
    "    try:\n",
    "        # 신발 카테고리\n",
    "        shoe_cat=driver.find_element_by_xpath(\"/html/body/section/section/section/article/article[2]/div/div[4]/div/div[1]/div/div[1]/div/span\").text\n",
    "        # 신발 이름\n",
    "        shoe_name=driver.find_element_by_xpath(\"/html/body/section/section/section/article/article[2]/div/div[4]/div/div[1]/h1/span\").text\n",
    "        # 신발 가격\n",
    "        shoe_price=driver.find_element_by_xpath('/html/body/section/section/section/article/article[2]/div/div[4]/div/div[1]/div/div[2]/span/strong').text\n",
    "        \n",
    "        #리뷰 더보기\n",
    "        more_review=driver.find_element_by_xpath('/html/body/section/section/section/article/article[2]/div/div[4]/div/div[4]/h2[1]')\n",
    "        # 리뷰 수\n",
    "        num_of_reviews=more_review.text.split('(')[1].split(')')[0]\n",
    "        more_review.click()\n",
    "        sleep(3)\n",
    "        driver.find_element_by_xpath('//*[@id=\"detail-review\"]/div/div[2]/a').click()\n",
    "        sleep(2)\n",
    "\n",
    "        if int(num_of_reviews)>2000:\n",
    "            n=2000\n",
    "        else:\n",
    "            n=int(num_of_reviews)\n",
    "        \n",
    "        try:\n",
    "            review_more=driver.find_element_by_id('load-more')\n",
    "            for i in range(n//20):\n",
    "                review_more.click()\n",
    "                sleep(2)\n",
    "\n",
    "            review_ul=driver.find_element_by_id('review-list')\n",
    "            review_list=review_ul.find_elements_by_tag_name('li')\n",
    "            sleep(2)\n",
    "\n",
    "            for i in review_list:\n",
    "                review=i.find_element_by_class_name('read-comment').text\n",
    "                result_list.append({\n",
    "                    'ShoeName':shoe_name,\n",
    "                    'ShoeCat':shoe_cat,\n",
    "                    'ShoePrice':shoe_price,\n",
    "                    'Review':review\n",
    "                })\n",
    "\n",
    "        except:\n",
    "            review_ul=driver.find_element_by_id('review-list')\n",
    "            review_list=review_ul.find_elements_by_tag_name('li')\n",
    "            sleep(2)\n",
    "\n",
    "            for i in review_list:\n",
    "                review=i.find_element_by_class_name('read-comment').text\n",
    "                result_list.append({\n",
    "                    'ShoeName':shoe_name,\n",
    "                    'ShoeCat':shoe_cat,\n",
    "                    'ShoePrice':shoe_price,\n",
    "                    'Review':review\n",
    "                })\n",
    "    \n",
    "    except:\n",
    "        pass"
   ]
  },
  {
   "cell_type": "code",
   "execution_count": null,
   "metadata": {},
   "outputs": [],
   "source": [
    "df_url=pd.Series(item_url)\n",
    "df_url.to_csv('u.csv')"
   ]
  },
  {
   "cell_type": "code",
   "execution_count": null,
   "metadata": {},
   "outputs": [],
   "source": [
    "df=pd.DataFrame(result_list)\n",
    "df.to_csv('nike.csv')"
   ]
  }
 ],
 "metadata": {
  "interpreter": {
   "hash": "aee8b7b246df8f9039afb4144a1f6fd8d2ca17a180786b69acc140d282b71a49"
  },
  "kernelspec": {
   "display_name": "Python 3.8.6 64-bit",
   "name": "python3"
  },
  "language_info": {
   "codemirror_mode": {
    "name": "ipython",
    "version": 3
   },
   "file_extension": ".py",
   "mimetype": "text/x-python",
   "name": "python",
   "nbconvert_exporter": "python",
   "pygments_lexer": "ipython3",
   "version": "3.8.6"
  },
  "orig_nbformat": 4
 },
 "nbformat": 4,
 "nbformat_minor": 2
}